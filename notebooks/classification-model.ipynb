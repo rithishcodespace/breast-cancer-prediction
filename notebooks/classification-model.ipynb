{
 "cells": [
  {
   "cell_type": "code",
   "execution_count": null,
   "id": "9b8169ee",
   "metadata": {},
   "outputs": [],
   "source": [
    "import pandas as pd\n",
    "import numpy as np\n",
    "import seaborn as sns\n",
    "import joblib"
   ]
  },
  {
   "cell_type": "code",
   "execution_count": null,
   "id": "69090568",
   "metadata": {},
   "outputs": [],
   "source": [
    "data = pd.read_csv(\"../data/breast-cancer.csv\")"
   ]
  },
  {
   "cell_type": "code",
   "execution_count": null,
   "id": "870831d9",
   "metadata": {},
   "outputs": [],
   "source": [
    "#EDA and Feature Engineering\n",
    "print(\"--------------first 5 columns--------------\")\n",
    "print(data.head())\n",
    "print(\"--------------Data type of the features--------------\")\n",
    "print(data.info())\n",
    "print(\"--------------statistics of the data--------------\")\n",
    "print(data.describe())\n",
    "print(\"--------------creates a heatmap to represent null values--------------\")\n",
    "print(sns.heatmap(data.isnull()))\n",
    "\n",
    "# drop Unnamed: 32 as only Nan, id as it is not needed, so drop it\n",
    "data.drop(['Unnamed: 32','id'], axis = 1, inplace=True)\n",
    "\n",
    "# diagnosis is an object, convert to int\n",
    "data = pd.get_dummies(data, columns=['diagnosis'], drop_first=True)\n",
    "print(\"----------final version after EDA------------\")\n",
    "print(data)"
   ]
  },
  {
   "cell_type": "code",
   "execution_count": null,
   "id": "6cbaf264",
   "metadata": {},
   "outputs": [],
   "source": [
    "X = data.drop(['diagnosis_M'], axis=1, inplace=False)\n",
    "y = data['diagnosis_M']"
   ]
  },
  {
   "cell_type": "code",
   "execution_count": null,
   "id": "420ed900",
   "metadata": {},
   "outputs": [],
   "source": [
    "# NORMALIZATION - ml models related to gradient descents gives best results when the features have close scale\n",
    "# scaling - eg: age(0-100), salary($0 - $100000) they have different scale\n",
    "  # fit - learns the mean and stardard deviation for each feature from the dataset\n",
    "  # transform applies a formula (x' = x-mew/sigma) it gives a new value for each data with (mean around 0, standard deviation around 1) the new data's now has close scale but the relationship stays the same \n",
    "  # eg: age(18 -> -1.31), salary(30000 -> -1.16)\n",
    "from sklearn.preprocessing import StandardScaler\n",
    "scaler = StandardScaler()\n",
    "X_scaled = scaler.fit_transform(X)"
   ]
  },
  {
   "cell_type": "code",
   "execution_count": null,
   "id": "5d3d319f",
   "metadata": {},
   "outputs": [],
   "source": [
    "from sklearn.model_selection import train_test_split\n",
    "X_train, X_test, y_train, y_test = train_test_split(X_scaled, y, test_size=0.2, random_state=42)"
   ]
  },
  {
   "cell_type": "code",
   "execution_count": null,
   "id": "3ebfc123",
   "metadata": {},
   "outputs": [],
   "source": [
    "from sklearn.linear_model import LogisticRegression\n",
    "\n",
    "model = LogisticRegression()\n",
    "model.fit(X_train, y_train)\n",
    "\n",
    "joblib.dump(model,\"../models/breast_cancer_prediction_model.joblib\")\n",
    "model = joblib.load(\"../models/breast_cancer_prediction_model.joblib\")\n",
    "\n",
    "y_pred = model.predict(X_test)                          "
   ]
  },
  {
   "cell_type": "code",
   "execution_count": null,
   "id": "fffb93fd",
   "metadata": {},
   "outputs": [],
   "source": [
    "from sklearn.metrics import accuracy_score, classification_report \n",
    "\n",
    "accuracy = accuracy_score(y_test,y_pred)\n",
    "print(classification_report(y_test,y_pred)) #gives all metrics like precision, recall, f1-score\n",
    "print(accuracy)"
   ]
  }
 ],
 "metadata": {
  "kernelspec": {
   "display_name": "Python 3",
   "language": "python",
   "name": "python3"
  },
  "language_info": {
   "codemirror_mode": {
    "name": "ipython",
    "version": 3
   },
   "file_extension": ".py",
   "mimetype": "text/x-python",
   "name": "python",
   "nbconvert_exporter": "python",
   "pygments_lexer": "ipython3",
   "version": "3.12.10"
  }
 },
 "nbformat": 4,
 "nbformat_minor": 5
}
